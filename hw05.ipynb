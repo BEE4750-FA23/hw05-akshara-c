{
  "cells": [
    {
      "cell_type": "markdown",
      "id": "d150bc21-aac7-4d00-8136-259a754e9eed",
      "metadata": {},
      "source": [
        "# BEE 4750 Homework 5: Solid Waste Disposal\n",
        "\n",
        "**Name**: Akshara Chandrabalan\n",
        "\n",
        "**ID**: ac2837\n",
        "\n",
        "> **Due Date**\n",
        ">\n",
        "> Friday, 11/10/23, 9:00pm\n",
        "\n",
        "## Overview"
      ]
    },
    {
      "cell_type": "markdown",
      "id": "6b434ddc-db6e-4b87-bb3b-fbb64d3a8bbe",
      "metadata": {},
      "source": [
        "### Load Environment\n",
        "\n",
        "The following code loads the environment and makes sure all needed\n",
        "packages are installed. This should be at the start of most Julia\n",
        "scripts.\n",
        "\n",
        "``` julia\n",
        "import Pkg\n",
        "Pkg.activate(@__DIR__)\n",
        "Pkg.instantiate()\n",
        "```\n",
        "\n",
        "``` julia\n",
        "using JuMP\n",
        "using HiGHS\n",
        "using DataFrames\n",
        "using GraphRecipes\n",
        "using Plots\n",
        "using Measures\n",
        "using MarkdownTables\n",
        "```"
      ]
    },
    {
      "cell_type": "code",
      "execution_count": 1,
      "id": "566daf2a",
      "metadata": {},
      "outputs": [
        {
          "name": "stderr",
          "output_type": "stream",
          "text": [
            "\u001b[32m\u001b[1m  Activating\u001b[22m\u001b[39m project at `~/Downloads/hw05-akshara-c`\n"
          ]
        }
      ],
      "source": [
        "import Pkg\n",
        "Pkg.activate(@__DIR__)\n",
        "Pkg.instantiate()"
      ]
    },
    {
      "cell_type": "code",
      "execution_count": 2,
      "id": "dd3e5b40",
      "metadata": {},
      "outputs": [],
      "source": [
        "using JuMP\n",
        "using HiGHS\n",
        "using DataFrames\n",
        "using GraphRecipes\n",
        "using Plots\n",
        "using Measures\n",
        "using MarkdownTables"
      ]
    },
    {
      "cell_type": "markdown",
      "id": "f01fc8ec-5c50-4f09-ae59-42dbf09a2fd7",
      "metadata": {},
      "source": [
        "## Background\n",
        "\n",
        "Three cities are developing a coordinated municipal solid waste (MSW)\n",
        "disposal plan. Three disposal alternatives are being considered: a\n",
        "landfill (LF), a materials recycling facility (MRF), and a\n",
        "waste-to-energy facility (WTE). The capacities of these facilities and\n",
        "the fees for operation and disposal are provided in the table below.\n",
        "\n",
        "|    **Disposal Facility**     | **Capacity** (Mg/d) | **Fixed cost** (\\$/d) | **Tipping Fee ** (\\$/Mg) | **Recycling Cost** (\\$/Mg) |\n",
        "|:-------------:|:-------------:|:-------------:|:----------:|:--------------:|\n",
        "|           Landfill           |         200         |         2000          |            50            |                            |\n",
        "| Materials Recycling Facility |         350         |         1500          |            7             |    40 (per Mg recycled)    |\n",
        "|   Waste-to-Energy Facility   |         210         |         2500          |            60            |                            |\n",
        "\n",
        "Transportation costs are \\$1.5/Mg-km, and the relative distances between\n",
        "the cities and facilities are provided in the table below.\n",
        "\n",
        "| **City/Facility** | **Landfill (km)** | **MRF (km)** | **WTE (km)** |\n",
        "|:-----------------:|:-----------------:|:------------:|:------------:|\n",
        "|         1         |         5         |      30      |      15      |\n",
        "|         2         |        15         |      25      |      10      |\n",
        "|         3         |        13         |      45      |      20      |\n",
        "|        LF         |        \\-         |      32      |      18      |\n",
        "|        MRF        |        32         |      \\-      |      15      |\n",
        "|        WTE        |        18         |      15      |      \\-      |\n",
        "\n",
        "The fixed costs associated with the disposal options are incurred only\n",
        "if the particular disposal option is implemented. The three cities\n",
        "produce 100, 90, and 120 Mg/day of solid waste, respectively, with the\n",
        "composition provided in the table below.\n",
        "\n",
        "|   **Component**   | **% of total mass** | **Combustion ash** (%) | **MRF Recycling rate** (%) |\n",
        "|:---------------------:|:--------------:|:---------------:|:---------------:|\n",
        "|    Food Wastes    |         15          |           8            |             0              |\n",
        "| Paper & Cardboard |         40          |           7            |             55             |\n",
        "|     Plastics      |          5          |           5            |             15             |\n",
        "|     Textiles      |          3          |           10           |             10             |\n",
        "|  Rubber, Leather  |          2          |           15           |             0              |\n",
        "|       Wood        |          5          |           2            |             30             |\n",
        "|    Yard Wastes    |         18          |           2            |             40             |\n",
        "|       Glass       |          4          |          100           |             60             |\n",
        "|      Ferrous      |          2          |          100           |             75             |\n",
        "|     Aluminum      |          2          |          100           |             80             |\n",
        "|    Other Metal    |          1          |          100           |             50             |\n",
        "|   Miscellaneous   |          3          |           70           |             0              |\n",
        "\n",
        "The information in the above table will help you determine the overall\n",
        "recycling and ash fractions. Note that the recycling residuals, which\n",
        "may be sent to either landfill or the WTE, have different ash content\n",
        "than the ash content of the original MSW. You will need to determine\n",
        "these fractions to construct your mass balance constraints.\n",
        "\n",
        "**Reminder**: Use `round(x; digits=n)` to report values to the\n",
        "appropriate precision!"
      ]
    },
    {
      "cell_type": "markdown",
      "id": "fdcc0b96-9176-4766-aed7-278ca003f7b6",
      "metadata": {},
      "source": [
        "## Problems (Total: 40 Points)"
      ]
    },
    {
      "cell_type": "markdown",
      "id": "ba969f6a-18b8-462c-980c-95b5ea6c6b92",
      "metadata": {},
      "source": [
        "### Problem 1 (22 points)\n",
        "\n",
        "In this problem, you will develop an optimal disposal plan for the two\n",
        "cities."
      ]
    },
    {
      "cell_type": "markdown",
      "id": "b7bb2071-887b-4709-b241-fd83ca521817",
      "metadata": {},
      "source": [
        "#### Problem 1.1 (3 points) \n",
        "\n",
        "Based on the information above, calculate the overall recycling and ash\n",
        "fractions for the waste produced by each city."
      ]
    },
    {
      "cell_type": "markdown",
      "id": "06201fd2",
      "metadata": {},
      "source": [
        "ANSWER: \\\n",
        "overall recycling fraction = (0.15 * 0) + (0.4 * 0.55) + (0.05 * 0.15) + (0.03 * 0.1) + (0.02 * 0) + (0.05 * 0.3) + (0.18 * 0.4) + (0.04 * 0.6) + (0.02 * 0.75) + (0.02 * 0.8) + (0.01 * 0.5) + (0.03 * 0)\n",
        "\n",
        "overall recycling fraction = 0.38 (38%)\n",
        "\n",
        "overall ash fraction = (0.15 * 0.08) + (0.4 * 0.07) + (0.05 * 0.05) + (0.03 * 0.1) + (0.02 * 0.15) + (0.05 * 0.02) + (0.18 * 0.02) + (0.04 * 1) + (0.02 * 1) + (0.02 * 1) + (0.01 * 1) + (0.03 * 0.7)\n",
        "\n",
        "overall ash fraction = 0.16 (16%)"
      ]
    },
    {
      "cell_type": "markdown",
      "id": "e649dc0e-ac57-4735-b145-f58917ce4cc5",
      "metadata": {},
      "source": [
        "#### Problem 1.2 (2 points)\n",
        "\n",
        "What are the decision variables for your optimization problem? Provide\n",
        "notation and variable meaning."
      ]
    },
    {
      "cell_type": "markdown",
      "id": "d00d88d4",
      "metadata": {},
      "source": [
        "ANSWER: \\\n",
        "$W_{ij}$, in Mg/day, is the amount of waste transported from each city $i \\in I$ to a given disposal site $j \\in J$ where $I$ = [1:3] and $J$ = [1:3] (J[1] corresponds to LF, J[2] corresponds to MRF and J[3] corresponds to WTE)\n",
        "\n",
        "$R_{kj}$, in Mg/day, is the amount of residual waste transported from disposal $k \\in K$ to disposal $j$, where K = [2:3]\n",
        "\n",
        "$Y_j$ is the operational (on/off) status of disposal j - binary and unitless\n"
      ]
    },
    {
      "cell_type": "markdown",
      "id": "692b76d0-5e3c-4123-a2f8-cc244fba0dc2",
      "metadata": {},
      "source": [
        "#### Problem 1.3 (3 points)\n",
        "\n",
        "Formulate the objective function. Make sure to include any needed\n",
        "derivations or justifications for your equation(s)."
      ]
    },
    {
      "cell_type": "markdown",
      "id": "319b88d4",
      "metadata": {},
      "source": [
        "ANSWER: The objective is to minimize total cost, in dollars. Total cost is made up of transportation costs plus disposal costs.\n",
        "\n",
        "Transportation costs: \\\n",
        "$a_{ij}$ is the cost of transporting waste from source i to disposal j in dollars/Mg-km \\\n",
        "$l_{ij}$ is the distance between source i and disposal j in km \\\n",
        "Therefore,\n",
        "$$transportation \\ costs = \\sum_{i \\in I, j \\in J, k \\in K} a_{ij} l_{ij} W_{ij} R_{kj}$$\n",
        "\n",
        "Disposal costs: \\\n",
        "$c_j$ is the fixed cost of operating disposal j in dollars/day \\\n",
        "$b_j$ is the tipping fee (variable cost) in dolars/Mg \\\n",
        "Therefore,\n",
        "$$disposal \\ cost = \\sum_{j \\in J} [c_j + b_j[\\sum_{i \\in I} W_{ij} + \\sum_{k \\in K} R_{kj}]]$$\n",
        "\n",
        "So, the objective function is as follows:\n",
        "$$\n",
        "\\min_{W_{ij}, Y_{j}, R_{kj}} \\sum_{i \\in I, j \\in J, k \\in K} a_{ij} l_{ij} W_{ij} R_{kj} + \\sum_{j \\in J} [c_jY_j + b_j\\sum_{i \\in I, k \\in K} [W_{ij} + R_{kj}]]\n",
        "$$"
      ]
    },
    {
      "cell_type": "markdown",
      "id": "c5d1f891",
      "metadata": {},
      "source": [
        "Process of simplifying: \\\n",
        "$LF \\ cost = 2000Y_1 + 50(W_{11} + W_{21} + W_{31} + R_{21} + R_{31})$ \\\n",
        "$MRF \\ cost = 1500Y_2 + 7(W_{12} + W_{22} + W_{32}) + 0.38(40)(W_{12} + W_{22} + W_{32})$ \\\n",
        "$WTE \\ cost = 2500Y_3 + 60(W_{13} + W_{23} + W_{33} + R_{23})$ \\\n",
        "$total \\ transportation \\ cost = 1.5(5W_{11} + 15W_{21} + 13W_{31} + 32R_{21} + 18R_{31} + 30W_{12} + 25W_{22} + 45W_{32} + 15W_{13} + 10W_{23} + 20W_{33} + 15R_{23})$\n",
        "\n",
        "$$\n",
        "\\min_{W_{ij}, Y_{j}, R_{kj}} 2000Y_1 + 50W_{11} + 50W_{21} + 50W_{31} + 50R_{21} + 50R_{31} + 1500Y_2 + 7W_{12} + 7W_{22} + 7W_{32} + 15.2W_{12} + 15.2W_{22} + 15.2W_{32} + 2500Y_3 + 60W_{13} \\\\ + 60W_{23} + 60W_{33} + 60R_{23} + 7.5W_{11} + 22.5W_{21} + 19.5W_{31} + 48R_{21} + 27R_{31} + 45W_{12} + 37.5W_{22} + 67.5W_{32} + 22.5W_{13} + 15W_{23} + 30W_{33} + 22.5R_{23}\n",
        "$$ \n",
        "\n",
        "The simplified objective function to minimize cost (in dollars) is:\n",
        "$$\n",
        "\\min_{W_{ij}, Y_{j}, R_{kj}} 57.5W_{11} + 67.2W_{12} + 82.5W_{13} + 72.5W_{21} + 59.7W_{22} + 75W_{23} + 69.5W_{31} + 89.7W_{32} + 90W_{33} + 98R_{21} + 77R_{31} + \\\\ 82.5R_{23} + 2000Y_1 + 1500Y_2 + 2500Y_3 \n",
        "$$ \n"
      ]
    },
    {
      "cell_type": "markdown",
      "id": "b1ac06fc-3f24-4ce0-86b2-9910f62d235f",
      "metadata": {},
      "source": [
        "#### Problem 1.4 (4 points) \n",
        "\n",
        "Derive all relevant constraints. Make sure to include any needed\n",
        "justifications or derivations."
      ]
    },
    {
      "cell_type": "markdown",
      "id": "8f9bfbed",
      "metadata": {},
      "source": [
        "ANSWER: \\\n",
        "City mass-balance constraints:\n",
        "$$W_{11} + W_{12} + W_{13} = 100 \\ Mg/d$$\n",
        "$$W_{21} + W_{22} + W_{23} = 90 \\ Mg/d$$\n",
        "$$W_{31} + W_{32} + W_{33} = 120 \\ Mg/d$$\n",
        "\n",
        "Residual mass-balance constraints:\n",
        "$$R_{31} = 0.16(W_{13} + W_{23} + W_{33} + R_{23}) \\ (for \\ WTE)$$\n",
        "$$R_{21} + R_{23} = 0.62(W_{12} + W_{22} + W_{32}) \\ (for \\ MRF)$$\n",
        "\n",
        "Disposal limit constraints:\n",
        "$$W_{11} + W_{21} + W_{31} + R_{21} + R_{31} \\leq 200 \\ Mg/d \\ (for \\ LF)$$ \n",
        "$$W_{12} + W_{22} + W_{32} \\leq 350 \\ Mg/d \\ (for \\ MRF)$$\n",
        "$$W_{13} + W_{23} + W_{33} + R_{23} \\leq 210 \\ Mg/d \\ (for \\ WTE)$$ \n",
        "\n",
        "Commitment and non-negativity constraints: LF is always on, so,\n",
        "$$Y_1 = 1$$\n",
        "\n",
        "MRF and WTE can be turned on and off, so,\n",
        "$$Y_2 =\n",
        "\\begin{cases}\n",
        "    0 & \\text{if } W_{12} + W_{22} + W_{32} = 0 \\\\\n",
        "    1 & \\text{else}\n",
        "\\end{cases}\n",
        "$$\n",
        "$$Y_3 =\n",
        "\\begin{cases}\n",
        "    0 & \\text{if } W_{13} + W_{23} + W_{33} + R_{23} = 0 \\\\\n",
        "    1 & \\text{else}\n",
        "\\end{cases}\n",
        "$$\n",
        "\n",
        "Amount of waste and residual cannot be negative, so,\n",
        "$$W_{ij}, R_{kj} \\geq 0$$\n",
        "\n"
      ]
    },
    {
      "cell_type": "markdown",
      "id": "311b2145-551b-4c4c-99aa-e466b170c470",
      "metadata": {},
      "source": [
        "#### Problem 1.5 (3 points) \n",
        "\n",
        "Implement your optimization problem in `JuMP`."
      ]
    },
    {
      "cell_type": "code",
      "execution_count": 3,
      "id": "3ee4804f",
      "metadata": {},
      "outputs": [],
      "source": [
        "MSW_disposal_model = Model(HiGHS.Optimizer)\n",
        "\n",
        "# definition of sets\n",
        "I = 1:3 # city\n",
        "J = 1:3 # disposal site where 1 corresponds to LF, 2 corresponds to MRF and 3 corresponds to WTE\n",
        "# disposal site from which residual waste is transported - no residual waste transported from LF, \n",
        "# but range starts at 1 to maintain a 3 cell vector\n",
        "K = 1:3\n",
        "\n",
        "# decision variables definition + non-negativity \n",
        "@variable(MSW_disposal_model, W[i in I, j in J] >= 0)\n",
        "@variable(MSW_disposal_model, R[k in K, j in J] >= 0)\n",
        "@variable(MSW_disposal_model, Y[j in J], Bin) # binary variable where value is either 0 or 1 \n",
        "\n",
        "# city mass-balance constraints\n",
        "@constraint(MSW_disposal_model, city1_mass, sum(W[1, j] for j in J) == 100)\n",
        "@constraint(MSW_disposal_model, city2_mass, sum(W[2, j] for j in J) == 90)\n",
        "@constraint(MSW_disposal_model, city3_mass, sum(W[3, j] for j in J) == 120)\n",
        "# residual mass-balance constraints\n",
        "@constraint(MSW_disposal_model, WTE_residual, 0.16 * (W[1, 3] + W[2, 3] + W[3, 3] + R[2, 3]) == R[3, 1])\n",
        "@constraint(MSW_disposal_model, MRF_residual, 0.62 * (W[1, 2] + W[2, 2] + W[3, 2]) == R[2, 1] + R[2, 3])\n",
        "# disposal limit constraints \n",
        "@constraint(MSW_disposal_model, LF_disp_limit, W[1, 1] + W[2, 1] + W[3, 1] + R[2, 1] + R[3, 1] <= 200)\n",
        "@constraint(MSW_disposal_model, MRF_disp_limit, W[1, 2] + W[2, 2] + W[3, 2] <= 350)\n",
        "@constraint(MSW_disposal_model, WTE_disp_limit, W[1, 3] + W[2, 3] + W[3, 3] + R[2, 3] <= 210)\n",
        "# commitment constraints\n",
        "M = 1500 # choosing a large M for the \"big-M\" reformulation\n",
        "@constraint(MSW_disposal_model, commitLF, Y[1] == 1)\n",
        "@constraint(MSW_disposal_model, commitMRF, M * Y[2] >= W[1, 2] + W[2, 2] + W[3, 2])\n",
        "@constraint(MSW_disposal_model, commitWTE, M * Y[3] >= W[1, 3] + W[2, 3] + W[3, 3] + R[2, 3])\n",
        "\n",
        "@objective(MSW_disposal_model, Min, 57.5W[1, 1] + 67.2W[1, 2] + 82.5W[1, 3] + 72.5W[2, 1] + 59.7W[2, 2] + 75W[2, 3] + 69.5W[3, 1] + 89.7W[3, 2] +\n",
        "                                    90W[3, 3] + 98R[2, 1] + 77R[3, 1] + 82.5R[2, 3] + 2000Y[1] + 1500Y[2] + 2500Y[3]);"
      ]
    },
    {
      "cell_type": "markdown",
      "id": "f986c51d-2e74-496f-ac02-89e7455c9e4f",
      "metadata": {},
      "source": [
        "#### Problem 1.6 (2 points)\n",
        "\n",
        "Find the optimal solution. Report the optimal objective value."
      ]
    },
    {
      "cell_type": "code",
      "execution_count": 4,
      "id": "3143d9c3",
      "metadata": {},
      "outputs": [
        {
          "name": "stdout",
          "output_type": "stream",
          "text": [
            "Running HiGHS 1.6.0: Copyright (c) 2023 HiGHS under MIT licence terms\n",
            "Presolving model\n",
            "9 rows, 14 cols, 37 nonzeros\n",
            "8 rows, 13 cols, 35 nonzeros\n",
            "\n",
            "Solving MIP model with:\n",
            "   8 rows\n",
            "   13 cols (2 binary, 0 integer, 0 implied int., 11 continuous)\n",
            "   35 nonzeros\n",
            "\n",
            "        Nodes      |    B&B Tree     |            Objective Bounds              |  Dynamic Constraints |       Work      \n",
            "     Proc. InQueue |  Leaves   Expl. | BestBound       BestSol              Gap |   Cuts   InLp Confl. | LpIters     Time\n",
            "\n",
            "         0       0         0   0.00%   2000            inf                  inf        0      0      0         0     0.0s\n",
            " S       0       0         0   0.00%   2000            27792.857143      92.80%        0      0      0         0     0.1s\n",
            "         0       0         0   0.00%   25944.750716    27792.857143       6.65%        0      0      0         6     0.1s\n",
            "\n",
            "Solving report\n",
            "  Status            Optimal\n",
            "  Primal bound      27792.8571429\n",
            "  Dual bound        27792.8571429\n",
            "  Gap               0% (tolerance: 0.01%)\n",
            "  Solution status   feasible\n",
            "                    27792.8571429 (objective)\n",
            "                    0 (bound viol.)\n",
            "                    0 (int. viol.)\n",
            "                    0 (row viol.)\n",
            "  Timing            0.10 (total)\n",
            "                    0.03 (presolve)\n",
            "                    0.00 (postsolve)\n",
            "  Nodes             1\n",
            "  LP iterations     8 (total)\n",
            "                    0 (strong br.)\n",
            "                    1 (separation)\n",
            "                    0 (heuristics)\n"
          ]
        }
      ],
      "source": [
        "optimize!(MSW_disposal_model)"
      ]
    },
    {
      "cell_type": "code",
      "execution_count": 5,
      "metadata": {},
      "outputs": [
        {
          "name": "stdout",
          "output_type": "stream",
          "text": [
            "LF_status = 1\n",
            "MRF_status = 0\n",
            "WTE_status = 1\n",
            "\n",
            "W_11 = 100.0\n",
            "W_12 = 0\n",
            "W_13 = 0\n",
            "W_21 = 0\n",
            "W_22 = 0\n",
            "W_23 = 90.0\n",
            "W_31 = 79.0\n",
            "W_32 = 0\n",
            "W_33 = 41.0\n",
            "\n",
            "R_31 = 21.0\n",
            "R_21 = 0\n",
            "R_23 = 0\n"
          ]
        }
      ],
      "source": [
        "LF_status = Int(value.(Y[1])) # using Int to round to a whole number\n",
        "@show LF_status\n",
        "MRF_status = Int(value.(Y[2]))\n",
        "@show MRF_status\n",
        "WTE_status = Int(value.(Y[3]))\n",
        "@show WTE_status\n",
        "\n",
        "println()\n",
        "\n",
        "W_11 = value.(W[1,1])\n",
        "@show W_11\n",
        "W_12 = Int(value.(W[1,2]))\n",
        "@show W_12\n",
        "W_13 = Int(value.(W[1,3]))\n",
        "@show W_13\n",
        "W_21 = Int(value.(W[2,1]))\n",
        "@show W_21\n",
        "W_22 = Int(value.(W[2,2]))\n",
        "@show W_22\n",
        "W_23 = value.(W[2,3])\n",
        "@show W_23\n",
        "W_31 = round(value.(W[3,1]), digits = 1)\n",
        "@show W_31\n",
        "W_32 = Int(value.(W[3,2]))\n",
        "@show W_32\n",
        "W_33 = round(value.(W[3,3]), digits = 1)\n",
        "@show W_33;\n",
        "\n",
        "println()\n",
        "\n",
        "R_31 = round(value.(R[3,1]), digits = 1)\n",
        "@show R_31\n",
        "R_21 = Int(value.(R[2,1]))\n",
        "@show R_21\n",
        "R_23 = Int(value.(R[2,3]))\n",
        "@show R_23;\n",
        "\n"
      ]
    },
    {
      "cell_type": "markdown",
      "metadata": {},
      "source": [
        "ANSWER: The optimal objective value (minimized cost) is about 27,792.86 dollars. The associated waste disposal plan is as follows:\n",
        "\n",
        "- only the LF and WTE disposal site is operational (MRF is not operating)\n",
        "- $W_{11} = 100$  Mg/d, $W_{23} = 90$ Mg/d, $W_{31} = 79$ Mg/d, $W_{33} = 41$ Mg/d\n",
        "- $R_{31} = 21$ Mg/d"
      ]
    },
    {
      "cell_type": "markdown",
      "id": "f577fd2d-e5de-406b-9f86-ec957976e3e0",
      "metadata": {},
      "source": [
        "#### Problem 1.7 (5 points) \n",
        "\n",
        "Draw a diagram showing the flows of waste between the cities and the\n",
        "facilities. Which facilities (if any) will not be used? Does this\n",
        "solution make sense?"
      ]
    },
    {
      "cell_type": "markdown",
      "metadata": {},
      "source": [
        "ANSWER: \n",
        "\n",
        "![diagram](image.png)\n",
        "\n",
        "The MRF facility will not be used. This makes sense because due to the MRF being located notably farther than the other two facilities, the transportation costs are high, and there would be the additional costs that arise from handling residual waste from the MRF. Another check that confirms the solution makes sense is that for each city, the sum of the waste being sent to disposal sites equals the amount of waste generated per day in each city. For example, for City 3, 79 Mg/d is sent to LF and 41 Mg/d is sent to WTE. The total waste disposed is 120 Mg/d, which is equal to the amount of waste produced by City 3. Also, the residual waste from WTE to LF is supposed to be 16% of the incoming waste to WTE. According to this solution, the total amount of incoming waste to WTE is 131 Mg/d, and 16% of that is about 21 Mg/d, which is the solution for $R_{31}$."
      ]
    },
    {
      "cell_type": "markdown",
      "id": "d648850f-68e5-4b26-a097-3ef8b4a4ec0e",
      "metadata": {},
      "source": [
        "### Problem 2 (18 points)\n",
        "\n",
        "It is projected that in the near future the state will introduce a\n",
        "carbon tax that will increase the cost for transportation and for\n",
        "disposal by incineration. It is estimated that the additional costs will\n",
        "be:\n",
        "\n",
        "-   tipping fee for the WTE facility will increase to\\$75/Mg; and\n",
        "-   transportation costs will increase to \\$2/Mg-km.\n",
        "\n",
        "In this context, the cities are considering adding another landfill and\n",
        "want to know if this would be cost-effective compared to using the\n",
        "current facilities with the carbon tax. This landfill would have a\n",
        "maximum capacity of 100 Mg/day and would be located with the following\n",
        "distances from the existing sites (excluding LF1):\n",
        "\n",
        "| **City/Facility** | **Distance to LF2 (km)** |\n",
        "|:-----------------:|:------------------------:|\n",
        "|         1         |            45            |\n",
        "|         2         |            35            |\n",
        "|         3         |            15            |\n",
        "|        MRF        |            35            |\n",
        "|        WTE        |            50            |\n",
        "\n",
        "The fixed cost of operating this facility would be the same as the first\n",
        "landfill, but the tipping cost would be increased to \\$60/Mg-day."
      ]
    },
    {
      "cell_type": "markdown",
      "id": "100f8010-51df-472b-92b8-c3b26b338fc7",
      "metadata": {},
      "source": [
        "#### Problem 2.1 (5 points) \n",
        "\n",
        "What changes are needed to your optimization program from Problem 1 for\n",
        "this decision problem? Formulate any different variables, objectives,\n",
        "and/or constraints."
      ]
    },
    {
      "cell_type": "markdown",
      "metadata": {},
      "source": [
        "ANSWER:\n",
        "\n",
        "Including disposal site LF2 to decision variable: \n",
        "\n",
        "$W_{ij}$, in Mg/day, is the amount of waste transported from each city $i \\in I$ to a given disposal site $j \\in J$ where $I$ = [1:3] and $J$ = [1:4] (J[1] corresponds to LF1, J[2] corresponds to MRF and J[3] corresponds to WTE, and J[4] corresponds to LF2)"
      ]
    },
    {
      "cell_type": "markdown",
      "metadata": {},
      "source": [
        "Editing cost components:\n",
        "\n",
        "$LF2 \\ cost = 2000Y_4 + 60(W_{14} + W_{24} + W_{34} + R_{24} + R_{34})$\n",
        "\n",
        "$WTE \\ cost = 2500Y_3 + 75(W_{13} + W_{23} + W_{33} + R_{23})$ \n",
        "\n",
        "$total \\ transportation \\ cost = 2[5W_{11} + 15W_{21} + 13W_{31} + 32R_{21} + 18R_{31} + 30W_{12} + 25W_{22} + 45W_{32} + 15W_{13} + 10W_{23} + 20W_{33} + 15R_{23} + 45W_{14} + 35W_{24} + 15W_{34} + 35R_{24} + 50R_{34}]$\n",
        "\n",
        "Updated objective function, in dollars:\n",
        "$$\n",
        "\\min_{W_{ij}, Y_{j}, R_{kj}} 2000Y_1 + 50W_{11} + 50W_{21} + 50W_{31} + 50R_{21} + 50R_{31} + 1500Y_2 + 7W_{12} + 7W_{22} + 7W_{32} + 15.2W_{12} + 15.2W_{22} + 15.2W_{32} + 2500Y_3 + 75W_{13} + 75W_{23} \\\\ + 75W_{33} + 75R_{23} + 2000Y_4 + 60W_{14} + 60W_{24} + 60W_{34} + 60R_{24} + 60R_{34} + 10W_{11} + 30W_{21} + 26W_{31} + 64R_{21} + 36R_{31} + 60W_{12} \\\\ + 50W_{22} + 90W_{32} + 30W_{13} + 20W_{23} + 40W_{33} + 30R_{23} + 90W_{14} + 70W_{24} + 30W_{34} + 70R_{24} + 100R_{34} \n",
        "$$ \n",
        "\n",
        "Updated objective function, simplified, in dollars:\n",
        "$$\n",
        "\\min_{W_{ij}, Y_{j}, R_{kj}} 60W_{11} + 80W_{21} + 76W_{31} + 82.2W_{12} + 72.2W_{22} + 112.2W_{32} + 105W_{13} + 95W_{23} + 115W_{33} + 150W_{14} + 130W_{24} + 90W_{34} + 114R_{21} \\\\ + 86R_{31} + 105R_{23} + 130R_{24} + 160R_{34} + 2000Y_1 + 1500Y_2 + 2500Y_3 + 2000Y_4   \n",
        "$$ "
      ]
    },
    {
      "cell_type": "markdown",
      "metadata": {},
      "source": [
        "Updating/adding constraints with respect to LF2:  \n",
        "\n",
        "City mass-balance constraints:\n",
        "$$W_{11} + W_{12} + W_{13} + W_{14}  = 100 \\ Mg/d$$\n",
        "$$W_{21} + W_{22} + W_{23} + W_{24} = 90 \\ Mg/d$$\n",
        "$$W_{31} + W_{32} + W_{33} + W_{34} = 120 \\ Mg/d$$\n",
        "\n",
        "Residual mass-balance constraints:\n",
        "$$R_{31} + R_{34} = 0.16(W_{13} + W_{23} + W_{33} + R_{23}) \\ (for \\ WTE)$$\n",
        "$$R_{21} + R_{23} + R_{24} = 0.62(W_{12} + W_{22} + W_{32}) \\ (for \\ MRF)$$\n",
        "\n",
        "Disposal limit constraints:\n",
        "$$W_{11} + W_{21} + W_{31} + R_{21} + R_{31} \\leq 200 \\ Mg/d \\ (for \\ LF1)$$ \n",
        "$$W_{12} + W_{22} + W_{32} \\leq 350 \\ Mg/d \\ (for \\ MRF)$$\n",
        "$$W_{13} + W_{23} + W_{33} + R_{23} \\leq 210 \\ Mg/d \\ (for \\ WTE)$$ \n",
        "$$W_{14} + W_{24} + W_{34} + R_{24} + R_{34} \\leq 100 \\ Mg/d \\ (for \\ LF2)$$ \n",
        "\n",
        "Commitment and non-negativity constraints: LF1 and LF2 are always on, so,\n",
        "$$Y_1 = 1$$\n",
        "\n",
        "MRF, WTE, and LF2 can be turned on and off, so,\n",
        "$$Y_2 =\n",
        "\\begin{cases}\n",
        "    0 & \\text{if } W_{12} + W_{22} + W_{32} = 0 \\\\\n",
        "    1 & \\text{else}\n",
        "\\end{cases}\n",
        "$$\n",
        "$$Y_3 =\n",
        "\\begin{cases}\n",
        "    0 & \\text{if } W_{13} + W_{23} + W_{33} + R_{23} = 0 \\\\\n",
        "    1 & \\text{else}\n",
        "\\end{cases}\n",
        "$$\n",
        "$$Y_4 =\n",
        "\\begin{cases}\n",
        "    0 & \\text{if } W_{14} + W_{24} + W_{34} + R_{24} + R_{34} = 0 \\\\\n",
        "    1 & \\text{else}\n",
        "\\end{cases}\n",
        "$$\n",
        "\n",
        "Amount of waste and residual cannot be negative, so,\n",
        "$$W_{ij}, R_{kj} \\geq 0$$"
      ]
    },
    {
      "cell_type": "markdown",
      "id": "d2c90680-d220-4bd8-8446-000e32cceb1e",
      "metadata": {},
      "source": [
        "#### Problem 2.2 (3 points) \n",
        "\n",
        "Implement the new optimization problem in `JuMP`."
      ]
    },
    {
      "cell_type": "code",
      "execution_count": 6,
      "metadata": {},
      "outputs": [],
      "source": [
        "MSW_disposal_model_carbon = Model(HiGHS.Optimizer)\n",
        "\n",
        "# definition of sets\n",
        "I = 1:3 # city\n",
        "J = 1:4 # disposal site where 1 corresponds to LF1, 2 corresponds to MRF, 3 corresponds to WTE, and 4 to LF2\n",
        "# disposal site from which residual waste is transported - no residual waste transported from LF1 and LF2, \n",
        "# but range starts at 1 to maintain a 4 cell vector\n",
        "K = 1:4\n",
        "\n",
        "# decision variables definition + non-negativity \n",
        "@variable(MSW_disposal_model_carbon, W[i in I, j in J] >= 0)\n",
        "@variable(MSW_disposal_model_carbon, R[k in K, j in J] >= 0)\n",
        "@variable(MSW_disposal_model_carbon, Y[j in J], Bin) # binary variable where value is either 0 or 1 \n",
        "\n",
        "# city mass-balance constraints\n",
        "@constraint(MSW_disposal_model_carbon, city1_mass, sum(W[1, j] for j in J) == 100)\n",
        "@constraint(MSW_disposal_model_carbon, city2_mass, sum(W[2, j] for j in J) == 90)\n",
        "@constraint(MSW_disposal_model_carbon, city3_mass, sum(W[3, j] for j in J) == 120)\n",
        "# residual mass-balance constraints\n",
        "@constraint(MSW_disposal_model_carbon, WTE_residual, 0.16 * (W[1, 3] + W[2, 3] + W[3, 3] + R[2, 3]) == R[3, 1] + R[3, 4])\n",
        "@constraint(MSW_disposal_model_carbon, MRF_residual, 0.62 * (W[1, 2] + W[2, 2] + W[3, 2]) == R[2, 1] + R[2, 3] + R[2, 4])\n",
        "# disposal limit constraints \n",
        "@constraint(MSW_disposal_model_carbon, LF1_disp_limit, W[1, 1] + W[2, 1] + W[3, 1] + R[2, 1] + R[3, 1] <= 200)\n",
        "@constraint(MSW_disposal_model_carbon, MRF_disp_limit, W[1, 2] + W[2, 2] + W[3, 2] <= 350)\n",
        "@constraint(MSW_disposal_model_carbon, WTE_disp_limit, W[1, 3] + W[2, 3] + W[3, 3] + R[2, 3] <= 210)\n",
        "@constraint(MSW_disposal_model_carbon, LF2_disp_limit, W[1, 4] + W[2, 4] + W[3, 4] + R[2, 4] + R[3, 4] <= 100)\n",
        "# commitment constraints\n",
        "M = 1500 # choosing a large M for the \"big-M\" reformulation\n",
        "@constraint(MSW_disposal_model_carbon, commitLF1, Y[1] == 1)\n",
        "@constraint(MSW_disposal_model_carbon, commitMRF, M * Y[2] >= W[1, 2] + W[2, 2] + W[3, 2])\n",
        "@constraint(MSW_disposal_model_carbon, commitWTE, M * Y[3] >= W[1, 3] + W[2, 3] + W[3, 3] + R[2, 3])\n",
        "@constraint(MSW_disposal_model_carbon, commitLF2, M * Y[4] >= W[1, 4] + W[2, 4] + W[3, 4] + R[2, 4] + R[3, 4])\n",
        "\n",
        "@objective(MSW_disposal_model_carbon, Min, 60W[1, 1] + 80W[2, 1] + 76W[3, 1] + 82.2W[1, 2] + 72.2W[2, 2] + 112.2W[3, 2] + 105W[1, 3] + 95W[2, 3] +\n",
        "                                           115W[3, 3] + 150W[1, 4] + 130W[2, 4] + 90W[3, 4] + 114R[2, 1] + 86R[3, 1] + 105R[2, 3] + 130R[2, 4] + \n",
        "                                           160R[3, 4] + 2000Y[1] + 1500Y[2] + 2500Y[3] + 2000Y[4]);"
      ]
    },
    {
      "cell_type": "markdown",
      "id": "d62a11f7-d999-4d09-aa23-f01cf696567b",
      "metadata": {},
      "source": [
        "#### Problem 2.3 (5 points)\n",
        "\n",
        "Find the optimal solution and report the optimal objective value.\n",
        "Provide a diagram showing the new waste flows."
      ]
    },
    {
      "cell_type": "code",
      "execution_count": 7,
      "metadata": {},
      "outputs": [
        {
          "name": "stdout",
          "output_type": "stream",
          "text": [
            "Running HiGHS 1.6.0: Copyright (c) 2023 HiGHS under MIT licence terms\n",
            "Presolving model\n",
            "11 rows, 20 cols, 53 nonzeros\n",
            "11 rows, 20 cols, 53 nonzeros\n",
            "\n",
            "Solving MIP model with:\n",
            "   11 rows\n",
            "   20 cols (3 binary, 0 integer, 0 implied int., 17 continuous)\n",
            "   53 nonzeros\n",
            "\n",
            "        Nodes      |    B&B Tree     |            Objective Bounds              |  Dynamic Constraints |       Work      \n",
            "     Proc. InQueue |  Leaves   Expl. | BestBound       BestSol              Gap |   Cuts   InLp Confl. | LpIters     Time\n",
            "\n",
            "         0       0         0   0.00%   2000            inf                  inf        0      0      0         0     0.0s\n",
            " S       0       0         0   0.00%   2000            30562.380952      93.46%        0      0      0         0     0.0s\n",
            "         0       0         0   0.00%   26544.298273    30562.380952      13.15%        0      0      0         8     0.0s\n",
            " S       0       0         0   0.00%   26544.298273    30562.380952      13.15%        9      1      0         8     0.0s\n",
            "\n",
            "Solving report\n",
            "  Status            Optimal\n",
            "  Primal bound      30562.3809524\n",
            "  Dual bound        30562.3809524\n",
            "  Gap               0% (tolerance: 0.01%)\n",
            "  Solution status   feasible\n",
            "                    30562.3809524 (objective)\n",
            "                    0 (bound viol.)\n",
            "                    1.11022302463e-16 (int. viol.)\n",
            "                    0 (row viol.)\n",
            "  Timing            0.04 (total)\n",
            "                    0.00 (presolve)\n",
            "                    0.00 (postsolve)\n",
            "  Nodes             1\n",
            "  LP iterations     22 (total)\n",
            "                    3 (strong br.)\n",
            "                    4 (separation)\n",
            "                    5 (heuristics)\n"
          ]
        }
      ],
      "source": [
        "optimize!(MSW_disposal_model_carbon)"
      ]
    },
    {
      "cell_type": "code",
      "execution_count": 8,
      "metadata": {},
      "outputs": [
        {
          "name": "stdout",
          "output_type": "stream",
          "text": [
            "LF1_status = 1\n",
            "MRF_status = 0\n",
            "WTE_status = 1\n",
            "LF2_status = 1\n",
            "\n",
            "W_11 = 100.0\n",
            "W_12 = 0.0\n",
            "W_13 = 0.0\n",
            "W_14 = 0.0\n",
            "W_21 = 78.1\n",
            "W_22 = 0\n",
            "W_23 = 11.9\n",
            "W_24 = 0.0\n",
            "W_31 = 20.0\n",
            "W_32 = 0.0\n",
            "W_33 = 0.0\n",
            "W_34 = 100.0\n",
            "\n",
            "R_31 = 1.9\n",
            "R_21 = 0.0\n",
            "R_23 = 0.0\n",
            "R_34 = 0.0\n",
            "R_24 = 0.0\n"
          ]
        }
      ],
      "source": [
        "LF1_status = Int(value.(Y[1])) # using Int to round to a whole number\n",
        "@show LF1_status\n",
        "MRF_status = Int(value.(Y[2]))\n",
        "@show MRF_status\n",
        "WTE_status = Int(value.(Y[3]))\n",
        "@show WTE_status\n",
        "LF2_status = Int(round(value.(Y[4])))\n",
        "@show LF2_status\n",
        "\n",
        "println()\n",
        "\n",
        "W_11 = value.(W[1,1])\n",
        "@show W_11\n",
        "W_12 = value.(W[1,2])\n",
        "@show W_12\n",
        "W_13 = value.(W[1,3])\n",
        "@show W_13\n",
        "W_14 = value.(W[1,4])\n",
        "@show W_14\n",
        "W_21 = round(value.(W[2,1]), digits = 1)\n",
        "@show W_21\n",
        "W_22 = Int(value.(W[2,2]))\n",
        "@show W_22\n",
        "W_23 = round(value.(W[2,3]), digits = 1)\n",
        "@show W_23\n",
        "W_24 = value.(W[2,4])\n",
        "@show W_24\n",
        "W_31 = value.(W[3,1])\n",
        "@show W_31\n",
        "W_32 = value.(W[3,2])\n",
        "@show W_32\n",
        "W_33 = value.(W[3,3])\n",
        "@show W_33\n",
        "W_34 = value.(W[3,4])\n",
        "@show W_34\n",
        "\n",
        "println()\n",
        "\n",
        "R_31 = round(value.(R[3,1]), digits = 1)\n",
        "@show R_31\n",
        "R_21 = value.(R[2,1])\n",
        "@show R_21\n",
        "R_23 = value.(R[2,3])\n",
        "@show R_23;\n",
        "R_34 = value.(R[3,4])\n",
        "@show R_34;\n",
        "R_24 = value.(R[2,4])\n",
        "@show R_24;"
      ]
    },
    {
      "cell_type": "markdown",
      "metadata": {},
      "source": [
        "ANSWER: The optimal objective value (minimized cost) is about 30,562.38 dollars. The associated waste disposal plan is as follows:\n",
        "\n",
        "- only the LF1, WTE, and LF2 disposal site is operational (MRF is not operating)  \n",
        "- $W_{11} = 100$  Mg/d, $W_{21} = 78.1$ Mg/d, $W_{23} = 11.9$ Mg/d, $W_{31} = 20$ Mg/d, $W_{34} = 100$ Mg/d\n",
        "- $R_{31} = 1.9$ Mg/d\n",
        "\n",
        "![diagram](image2.png)"
      ]
    },
    {
      "cell_type": "markdown",
      "id": "c434f326-28e9-4db9-a274-b2fe358379c3",
      "metadata": {},
      "source": [
        "#### Problem 2.4 (5 points)\n",
        "\n",
        "Would you recommend that the cities build the new landfill? Why or why\n",
        "not? Your answer should be based on your analysis but can draw on other\n",
        "considerations as appropriate or desired."
      ]
    },
    {
      "cell_type": "markdown",
      "metadata": {},
      "source": [
        "ANSWER: Yes, because the model solution shows the operational status of LF2 should be \"on\". Thus, under the carbon tax scenario, having the second landfill is a part of the MSW disposal plan that results in the optimized minimal cost. Additionally, given the price increase for WTE, it makes sense that we're significantly reducing the amount disposed at WTE and diverting the disposal to LF2. However, additional considerations, such as the ecological cost associated with converting land to a landfill and stakeholder/public buy-in, should be taken into account in making the decision.  "
      ]
    },
    {
      "cell_type": "markdown",
      "id": "3b590183-8c1f-45b7-8b53-a61f6e14c3d0",
      "metadata": {},
      "source": [
        "## References\n",
        "\n",
        "List any external references consulted, including classmates.\n",
        "\n",
        "- https://ctan.math.washington.edu/tex-archive/info/undergradmath/undergradmath.pdf\n",
        "\n",
        "- https://docs.julialang.org/en/v1/manual/integers-and-floating-point-numbers/\n",
        "\n",
        "- https://docs.julialang.org/en/v1/stdlib/Markdown/\n",
        "\n",
        "- BEE 4750/5750 - Lecture 21 Waste Management and Network Models\n",
        "\n",
        "Consulted with Christine Swanson. "
      ]
    }
  ],
  "metadata": {
    "kernelspec": {
      "display_name": "Julia 1.9.2",
      "language": "julia",
      "name": "julia-1.9"
    },
    "language_info": {
      "file_extension": ".jl",
      "mimetype": "application/julia",
      "name": "julia",
      "version": "1.9.2"
    }
  },
  "nbformat": 4,
  "nbformat_minor": 5
}
