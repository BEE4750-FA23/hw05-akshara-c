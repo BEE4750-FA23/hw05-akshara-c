{
  "cells": [
    {
      "cell_type": "markdown",
      "id": "d150bc21-aac7-4d00-8136-259a754e9eed",
      "metadata": {},
      "source": [
        "# BEE 4750 Homework 5: Solid Waste Disposal\n",
        "\n",
        "**Name**: Akshara Chandrabalan\n",
        "\n",
        "**ID**: ac2837\n",
        "\n",
        "> **Due Date**\n",
        ">\n",
        "> Friday, 11/10/23, 9:00pm\n",
        "\n",
        "## Overview"
      ]
    },
    {
      "cell_type": "markdown",
      "id": "0f5144ff-a99c-43e1-b180-aa978abf2c9b",
      "metadata": {},
      "source": [
        "### Instructions - TYPO?\n",
        "\n",
        "-   In Problem 1, you will formulate, solve, and analyze a standard\n",
        "    generating capacity expansion problem.\n",
        "-   In Problem 2, you will add a CO<sub>2</sub> constraint to the\n",
        "    capacity expansion problem and identify changes in the resulting\n",
        "    solution."
      ]
    },
    {
      "cell_type": "markdown",
      "id": "6b434ddc-db6e-4b87-bb3b-fbb64d3a8bbe",
      "metadata": {},
      "source": [
        "### Load Environment\n",
        "\n",
        "The following code loads the environment and makes sure all needed\n",
        "packages are installed. This should be at the start of most Julia\n",
        "scripts.\n",
        "\n",
        "``` julia\n",
        "import Pkg\n",
        "Pkg.activate(@__DIR__)\n",
        "Pkg.instantiate()\n",
        "```\n",
        "\n",
        "``` julia\n",
        "using JuMP\n",
        "using HiGHS\n",
        "using DataFrames\n",
        "using GraphRecipes\n",
        "using Plots\n",
        "using Measures\n",
        "using MarkdownTables\n",
        "```"
      ]
    },
    {
      "cell_type": "code",
      "execution_count": 1,
      "id": "566daf2a",
      "metadata": {},
      "outputs": [
        {
          "name": "stderr",
          "output_type": "stream",
          "text": [
            "\u001b[32m\u001b[1m  Activating\u001b[22m\u001b[39m project at `~/Documents/BEE 5750 /hw05-akshara-c`\n"
          ]
        }
      ],
      "source": [
        "import Pkg\n",
        "Pkg.activate(@__DIR__)\n",
        "Pkg.instantiate()"
      ]
    },
    {
      "cell_type": "code",
      "execution_count": 2,
      "id": "dd3e5b40",
      "metadata": {},
      "outputs": [],
      "source": [
        "using JuMP\n",
        "using HiGHS\n",
        "using DataFrames\n",
        "using GraphRecipes\n",
        "using Plots\n",
        "using Measures\n",
        "using MarkdownTables"
      ]
    },
    {
      "cell_type": "markdown",
      "id": "f01fc8ec-5c50-4f09-ae59-42dbf09a2fd7",
      "metadata": {},
      "source": [
        "## Background\n",
        "\n",
        "Three cities are developing a coordinated municipal solid waste (MSW)\n",
        "disposal plan. Three disposal alternatives are being considered: a\n",
        "landfill (LF), a materials recycling facility (MRF), and a\n",
        "waste-to-energy facility (WTE). The capacities of these facilities and\n",
        "the fees for operation and disposal are provided in the table below.\n",
        "\n",
        "|    **Disposal Facility**     | **Capacity** (Mg/d) | **Fixed cost** (\\$/d) | **Tipping Fee ** (\\$/Mg) | **Recycling Cost** (\\$/Mg) |\n",
        "|:-------------:|:-------------:|:-------------:|:----------:|:--------------:|\n",
        "|           Landfill           |         200         |         2000          |            50            |                            |\n",
        "| Materials Recycling Facility |         350         |         1500          |            7             |    40 (per Mg recycled)    |\n",
        "|   Waste-to-Energy Facility   |         210         |         2500          |            60            |                            |\n",
        "\n",
        "Transportation costs are \\$1.5/Mg-km, and the relative distances between\n",
        "the cities and facilities are provided in the table below.\n",
        "\n",
        "| **City/Facility** | **Landfill (km)** | **MRF (km)** | **WTE (km)** |\n",
        "|:-----------------:|:-----------------:|:------------:|:------------:|\n",
        "|         1         |         5         |      30      |      15      |\n",
        "|         2         |        15         |      25      |      10      |\n",
        "|         3         |        13         |      45      |      20      |\n",
        "|        LF         |        \\-         |      32      |      18      |\n",
        "|        MRF        |        32         |      \\-      |      15      |\n",
        "|        WTE        |        18         |      15      |      \\-      |\n",
        "\n",
        "The fixed costs associated with the disposal options are incurred only\n",
        "if the particular disposal option is implemented. The three cities\n",
        "produce 100, 90, and 120 Mg/day of solid waste, respectively, with the\n",
        "composition provided in the table below.\n",
        "\n",
        "|   **Component**   | **% of total mass** | **Combustion ash** (%) | **MRF Recycling rate** (%) |\n",
        "|:---------------------:|:--------------:|:---------------:|:---------------:|\n",
        "|    Food Wastes    |         15          |           8            |             0              |\n",
        "| Paper & Cardboard |         40          |           7            |             55             |\n",
        "|     Plastics      |          5          |           5            |             15             |\n",
        "|     Textiles      |          3          |           10           |             10             |\n",
        "|  Rubber, Leather  |          2          |           15           |             0              |\n",
        "|       Wood        |          5          |           2            |             30             |\n",
        "|    Yard Wastes    |         18          |           2            |             40             |\n",
        "|       Glass       |          4          |          100           |             60             |\n",
        "|      Ferrous      |          2          |          100           |             75             |\n",
        "|     Aluminum      |          2          |          100           |             80             |\n",
        "|    Other Metal    |          1          |          100           |             50             |\n",
        "|   Miscellaneous   |          3          |           70           |             0              |\n",
        "\n",
        "The information in the above table will help you determine the overall\n",
        "recycling and ash fractions. Note that the recycling residuals, which\n",
        "may be sent to either landfill or the WTE, have different ash content\n",
        "than the ash content of the original MSW. You will need to determine\n",
        "these fractions to construct your mass balance constraints.\n",
        "\n",
        "**Reminder**: Use `round(x; digits=n)` to report values to the\n",
        "appropriate precision!"
      ]
    },
    {
      "cell_type": "markdown",
      "id": "fdcc0b96-9176-4766-aed7-278ca003f7b6",
      "metadata": {},
      "source": [
        "## Problems (Total: 40 Points)"
      ]
    },
    {
      "cell_type": "markdown",
      "id": "ba969f6a-18b8-462c-980c-95b5ea6c6b92",
      "metadata": {},
      "source": [
        "### Problem 1 (22 points)\n",
        "\n",
        "In this problem, you will develop an optimal disposal plan for the two\n",
        "cities."
      ]
    },
    {
      "cell_type": "markdown",
      "id": "b7bb2071-887b-4709-b241-fd83ca521817",
      "metadata": {},
      "source": [
        "#### Problem 1.1 (3 points) - DONE\n",
        "\n",
        "Based on the information above, calculate the overall recycling and ash\n",
        "fractions for the waste produced by each city."
      ]
    },
    {
      "cell_type": "markdown",
      "id": "06201fd2",
      "metadata": {},
      "source": [
        "ANSWER:\n",
        "$\\\\$ \n",
        "overall recycling fraction = (0.15 * 0) + (0.4 * 0.55) + (0.05 * 0.15) + (0.03 * 0.1) + (0.02 * 0) + (0.05 * 0.3) + (0.18 * 0.4) + (0.04 * 0.6) + (0.02 * 0.75) + (0.02 * 0.8) + (0.01 * 0.5) + (0.03 * 0)\n",
        "\n",
        "overall recycling fraction = 0.38 (38%)\n",
        "\n",
        "overall ash fraction = (0.15 * 0.08) + (0.4 * 0.07) + (0.05 * 0.05) + (0.03 * 0.1) + (0.02 * 0.15) + (0.05 * 0.02) + (0.18 * 0.02) + (0.04 * 1) + (0.02 * 1) + (0.02 * 1) + (0.01 * 1) + (0.03 * 0.7)\n",
        "\n",
        "overall ash fraction = 0.16 (16%)"
      ]
    },
    {
      "cell_type": "markdown",
      "id": "e649dc0e-ac57-4735-b145-f58917ce4cc5",
      "metadata": {},
      "source": [
        "#### Problem 1.2 (2 points) - DONE\n",
        "\n",
        "What are the decision variables for your optimization problem? Provide\n",
        "notation and variable meaning."
      ]
    },
    {
      "cell_type": "markdown",
      "id": "d00d88d4",
      "metadata": {},
      "source": [
        "ANSWER:\n",
        "$\\\\$\n",
        "$W_{ij}$, in Mg/day, is the amount of waste transported from each city $i \\in I$ to a given disposal site $j \\in J$ where $I$ = [1:3] and $J$ = [1:3] (J[1] corresponds to LF, J[2] corresponds to MRF and J[3] corresponds to WTE)\n",
        "$\\\\$\n",
        "\n",
        "$R_{kj}$, in Mg/day, is the amount of residual waste transported from disposal $k \\in K$ to disposal $j$, where K = [2:3]\n",
        "$\\\\$\n",
        "\n",
        "$Y_j$ is the operational (on/off) status of disposal j - binary and unitless\n"
      ]
    },
    {
      "cell_type": "markdown",
      "id": "692b76d0-5e3c-4123-a2f8-cc244fba0dc2",
      "metadata": {},
      "source": [
        "#### Problem 1.3 (3 points) - DONE\n",
        "\n",
        "Formulate the objective function. Make sure to include any needed\n",
        "derivations or justifications for your equation(s)."
      ]
    },
    {
      "cell_type": "markdown",
      "id": "319b88d4",
      "metadata": {},
      "source": [
        "ANSWER: The objective is to minimize total cost, in dollars. Total cost is made up of transportation costs plus disposal costs.\n",
        "\n",
        "Transportation costs:\n",
        "$$\\\\$$\n",
        "$a_{ij}$ is the cost of transporting waste from source i to disposal j in dollars/Mg-km\n",
        "$$\\\\$$\n",
        "$l_{ij}$ is the distance between source i and disposal j in km\n",
        "$$\\\\$$\n",
        "Therefore,\n",
        "$$\n",
        "transportation \\ costs = \\sum_{i \\in I, j \\in J, k \\in K} a_{ij} l_{ij} W_{ij} R_{kj} \n",
        "$$\n",
        "\n",
        "Disposal costs:\n",
        "$$\\\\$$\n",
        "$c_j$ is the fixed cost of operating disposal j in dollars/day \n",
        "$$\\\\$$\n",
        "$b_j$ is the tipping fee (variable cost) in dolars/Mg\n",
        "$$\\\\$$\n",
        "Therefore,\n",
        "$$\n",
        "disposal \\ cost = \\sum_{j \\in J} [c_j + b_j[\\sum_{i \\in I} W_{ij} + \\sum_{k \\in K} R_{kj}]]\n",
        "$$\n",
        "\n",
        "So, the objective function is as follows:\n",
        "$$\n",
        "\\min_{W_{ij}, Y_{j}, R_{kj}} \\sum_{i \\in I, j \\in J, k \\in K} a_{ij} l_{ij} W_{ij} R_{kj} + \\sum_{j \\in J} [c_jY_j + b_j\\sum_{i \\in I, k \\in K} [W_{ij} + R_{kj}]]\n",
        "$$"
      ]
    },
    {
      "cell_type": "markdown",
      "id": "c5d1f891",
      "metadata": {},
      "source": [
        "Process of simplifying:\n",
        "$\\\\$\n",
        "$LF cost = 2000Y_1 + 50(W_{11} + W_{21} + W_{31} + R_{21} + R_{31})$ \n",
        "$\\\\$\n",
        "$MRF cost = 1500Y_2 + 7(W_{12} + W_{22} + W_{32}) + 0.38(40)(W_{12} + W_{22} + W_{32})$ \n",
        "$\\\\$\n",
        "$WTE cost = 2500Y_3 + 60(W_{13} + W_{23} + W_{33} + R_{23})$\n",
        "$\\\\$\n",
        "$total \\ transportation \\ cost = 1.5[5W_{11} + 15W_{21} + 13W_{31} + 32R_{21} + 18R_{31} + 30W_{12} + 25W_{22} + 45W_{32} + 15W_{13} + 10W_{23} + 20W_{33} + 15R_{23}]$\n",
        "\n",
        "$$\n",
        "\\min_{W_{ij}, Y_{j}, R_{kj}} 2000Y_1 + 50W_{11} + 50W_{21} + 50W_{31} + 50R_{21} + 50R_{31} + 1500Y_2 + 7W_{12} + 7W_{22} + 7W_{32} + 15.2W_{12} + 15.2W_{22} + 15.2W_{32} + 2500Y_3 + 60W_{13} + 60W_{23} + 60W_{33} + 60R_{23} + 7.5W_{11} + 22.5W_{21} + 19.5W_{31} + 48R_{21} + 27R_{31} + 45W_{12} + 37.5W_{22} + 67.5W_{32} + 22.5W_{13} + 15W_{23} + 30W_{33} + 22.5R_{23}\n",
        "$$ \n",
        "\n",
        "The simplified objective function to minimize cost (in dollars) is:\n",
        "$$\n",
        "\\min_{W_{ij}, Y_{j}, R_{kj}} 57.5W_{11} + 67.2W_{12} + 82.5W_{13} + 72.5W_{21} + 59.7W_{22} + 75W_{23} + 69.5W_{31} + 89.7W_{32} + 90W_{33} + 98R_{21} + 77R_{31} + 82.5R_{23} + 2000Y_1 + 1500Y_2 + 2500Y_3 \n",
        "$$ \n"
      ]
    },
    {
      "cell_type": "markdown",
      "id": "b1ac06fc-3f24-4ce0-86b2-9910f62d235f",
      "metadata": {},
      "source": [
        "#### Problem 1.4 (4 points) - DONE\n",
        "\n",
        "Derive all relevant constraints. Make sure to include any needed\n",
        "justifications or derivations."
      ]
    },
    {
      "cell_type": "markdown",
      "id": "8f9bfbed",
      "metadata": {},
      "source": [
        "ANSWER:\n",
        "$\\\\$\n",
        "City mass-balance constraints:\n",
        "$$W_{11} + W_{12} + W_{13} = 100 \\ Mg/d$$\n",
        "$$W_{21} + W_{22} + W_{23} = 90 \\ Mg/d$$\n",
        "$$W_{31} + W_{32} + W_{33} = 120 \\ Mg/d$$\n",
        "\n",
        "Residual mass-balance constraints:\n",
        "$$R_{31} = 0.16(W_{13} + W_{23} + W_{33} + R_{23}) \\ (for \\ WTE) \\$$\n",
        "$$R_{21} + R_{23} = 0.62(W_{12} + W_{22} + W_{32}) \\ (for \\ MRF) \\$$\n",
        "\n",
        "Disposal limit constraints:\n",
        "$$W_{11} + W_{21} + W_{31} + R_{21} + R_{31} \\leq 200 \\ Mg/d \\ (for \\ LF) \\$$ \n",
        "$$W_{12} + W_{22} + W_{32} \\leq 350 \\ Mg/d \\ (for \\ MRF) \\$$\n",
        "$$W_{13} + W_{23} + W_{33} + R_{23} \\leq 210 \\ Mg/d \\ (for \\ WTE) \\$$ \n",
        "\n",
        "Commitment and non-negativity constraints:\n",
        "$$\\\\$$\n",
        "LF is always on, so,\n",
        "$$Y_1 = 1$$\n",
        "\n",
        "MRF and WTE can be turned on and off, so,\n",
        "$$Y_2 =\n",
        "\\begin{cases}\n",
        "    0 & \\text{if } W_{12} + W_{22} + W_{32} = 0 \\\\\n",
        "    1 & \\text{else}\n",
        "\\end{cases}\n",
        "$$\n",
        "$$Y_3 =\n",
        "\\begin{cases}\n",
        "    0 & \\text{if } W_{13} + W_{23} + W_{33} + R_{23} = 0 \\\\\n",
        "    1 & \\text{else}\n",
        "\\end{cases}\n",
        "$$\n",
        "\n",
        "Amount of waste and residual cannot be negative, so,\n",
        "$$W_{ij}, R_{kj} \\geq 0$$\n",
        "\n"
      ]
    },
    {
      "cell_type": "markdown",
      "id": "311b2145-551b-4c4c-99aa-e466b170c470",
      "metadata": {},
      "source": [
        "#### Problem 1.5 (3 points)\n",
        "\n",
        "Implement your optimization problem in `JuMP`."
      ]
    },
    {
      "cell_type": "markdown",
      "id": "f986c51d-2e74-496f-ac02-89e7455c9e4f",
      "metadata": {},
      "source": [
        "#### Problem 1.6 (2 points)\n",
        "\n",
        "Find the optimal solution. Report the optimal objective value."
      ]
    },
    {
      "cell_type": "markdown",
      "id": "f577fd2d-e5de-406b-9f86-ec957976e3e0",
      "metadata": {},
      "source": [
        "#### Problem 1.7 (5 points)\n",
        "\n",
        "Draw a diagram showing the flows of waste between the cities and the\n",
        "facilities. Which facilities (if any) will not be used? Does this\n",
        "solution make sense?"
      ]
    },
    {
      "cell_type": "markdown",
      "id": "d648850f-68e5-4b26-a097-3ef8b4a4ec0e",
      "metadata": {},
      "source": [
        "### Problem 2 (18 points)\n",
        "\n",
        "It is projected that in the near future the state will introduce a\n",
        "carbon tax that will increase the cost for transportation and for\n",
        "disposal by incineration. It is estimated that the additional costs will\n",
        "be:\n",
        "\n",
        "-   tipping fee for the WTE facility will increase to\\$75/Mg; and\n",
        "-   transportation costs will increase to \\$2/Mg-km.\n",
        "\n",
        "In this context, the cities are considering adding another landfill and\n",
        "want to know if this would be cost-effective compared to using the\n",
        "current facilities with the carbon tax. This landfill would have a\n",
        "maximum capacity of 100 Mg/day and would be located with the following\n",
        "distances from the existing sites (excluding LF1):\n",
        "\n",
        "| **City/Facility** | **Distance to LF2 (km)** |\n",
        "|:-----------------:|:------------------------:|\n",
        "|         1         |            45            |\n",
        "|         2         |            35            |\n",
        "|         3         |            15            |\n",
        "|        MRF        |            35            |\n",
        "|        WTE        |            50            |\n",
        "\n",
        "The fixed cost of operating this facility would be the same as the first\n",
        "landfill, but the tipping cost would be increased to \\$60/Mg-day."
      ]
    },
    {
      "cell_type": "markdown",
      "id": "100f8010-51df-472b-92b8-c3b26b338fc7",
      "metadata": {},
      "source": [
        "#### Problem 2.1 (5 points)\n",
        "\n",
        "What changes are needed to your optimization program from Problem 1 for\n",
        "this decision problem? Formulate any different variables, objectives,\n",
        "and/or constraints."
      ]
    },
    {
      "cell_type": "markdown",
      "id": "d2c90680-d220-4bd8-8446-000e32cceb1e",
      "metadata": {},
      "source": [
        "#### Problem 2.2 (3 points)\n",
        "\n",
        "Implement the new optimization problem in `JuMP`."
      ]
    },
    {
      "cell_type": "markdown",
      "id": "d62a11f7-d999-4d09-aa23-f01cf696567b",
      "metadata": {},
      "source": [
        "#### Problem 2.3 (5 points)\n",
        "\n",
        "Find the optimal solution and report the optimal objective value.\n",
        "Provide a diagram showing the new waste flows."
      ]
    },
    {
      "cell_type": "markdown",
      "id": "c434f326-28e9-4db9-a274-b2fe358379c3",
      "metadata": {},
      "source": [
        "#### Problem 2.4 (5 points)\n",
        "\n",
        "Would you recommend that the cities build the new landfill? Why or why\n",
        "not? Your answer should be based on your analysis but can draw on other\n",
        "considerations as appropriate or desired."
      ]
    },
    {
      "cell_type": "markdown",
      "id": "3b590183-8c1f-45b7-8b53-a61f6e14c3d0",
      "metadata": {},
      "source": [
        "## References\n",
        "\n",
        "List any external references consulted, including classmates.\n",
        "\n",
        "https://ctan.math.washington.edu/tex-archive/info/undergradmath/undergradmath.pdf"
      ]
    }
  ],
  "metadata": {
    "kernelspec": {
      "display_name": "Julia 1.9.2",
      "language": "julia",
      "name": "julia-1.9"
    },
    "language_info": {
      "file_extension": ".jl",
      "mimetype": "application/julia",
      "name": "julia",
      "version": "1.9.2"
    }
  },
  "nbformat": 4,
  "nbformat_minor": 5
}
